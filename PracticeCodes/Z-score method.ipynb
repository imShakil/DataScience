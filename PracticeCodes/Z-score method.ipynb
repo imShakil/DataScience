{
 "cells": [
  {
   "cell_type": "code",
   "execution_count": 1,
   "metadata": {},
   "outputs": [],
   "source": [
    "import numpy as np\n",
    "import scipy as sp\n",
    "import pandas as pd\n",
    "import matplotlib as mpl\n",
    "import seaborn as sns\n",
    "\n",
    "df = pd.read_csv('resources\\loan_train.csv')"
   ]
  },
  {
   "cell_type": "code",
   "execution_count": 2,
   "metadata": {},
   "outputs": [
    {
     "data": {
      "text/plain": [
       "<matplotlib.axes._subplots.AxesSubplot at 0xce4c470>"
      ]
     },
     "execution_count": 2,
     "metadata": {},
     "output_type": "execute_result"
    },
    {
     "data": {
      "image/png": "[encoded data removed]",
      "text/plain": [
       "<Figure size 432x288 with 1 Axes>"
      ]
     },
     "metadata": {
      "needs_background": "light"
     },
     "output_type": "display_data"
    }
   ],
   "source": [
    "#Finding missing value and displaying in graph\n",
    "sns.heatmap(df.isnull(), yticklabels=False, cbar=False, cmap='viridis')"
   ]
  },
  {
   "cell_type": "code",
   "execution_count": 3,
   "metadata": {},
   "outputs": [],
   "source": [
    "#Replacing missing value of 'LoanAmount' by it's mean\n",
    "df['LoanAmount'].fillna(df['LoanAmount'].mean(), inplace=True)"
   ]
  },
  {
   "cell_type": "code",
   "execution_count": 4,
   "metadata": {},
   "outputs": [
    {
     "data": {
      "text/plain": [
       "<matplotlib.axes._subplots.AxesSubplot at 0xded39d0>"
      ]
     },
     "execution_count": 4,
     "metadata": {},
     "output_type": "execute_result"
    },
    {
     "data": {
      "image/png": "[encoded data removed]",
      "text/plain": [
       "<Figure size 432x288 with 1 Axes>"
      ]
     },
     "metadata": {
      "needs_background": "light"
     },
     "output_type": "display_data"
    }
   ],
   "source": [
    "#Now displaying in graph\n",
    "sns.heatmap(df.isnull(), yticklabels=False, cbar=False, cmap=\"Accent\")"
   ]
  },
  {
   "cell_type": "code",
   "execution_count": 27,
   "metadata": {},
   "outputs": [
    {
     "data": {
      "text/plain": [
       "(499, 13)"
      ]
     },
     "execution_count": 27,
     "metadata": {},
     "output_type": "execute_result"
    }
   ],
   "source": [
    "#Droping all missing value from data set\n",
    "df.dropna(axis=0, how='any', inplace=True)\n",
    "df.shape"
   ]
  },
  {
   "cell_type": "code",
   "execution_count": 23,
   "metadata": {},
   "outputs": [],
   "source": [
    "#Defined Z-Score method to remove outlier\n",
    "\n",
    "def ZScore(df, col):\n",
    "    mean = np.mean(df[col])\n",
    "    std = np.std(df[col])\n",
    "    Y = np.abs([((y - mean) / std) for y in df[col]])\n",
    "    ndf = df.loc[(np.where(Y < 3))]\n",
    "    \n",
    "    return ndf"
   ]
  },
  {
   "cell_type": "code",
   "execution_count": 28,
   "metadata": {},
   "outputs": [
    {
     "name": "stdout",
     "output_type": "stream",
     "text": [
      "      Loan_ID  Gender Married Dependents     Education Self_Employed  \\\n",
      "0    LP001002    Male      No          0      Graduate            No   \n",
      "1    LP001003    Male     Yes          1      Graduate            No   \n",
      "2    LP001005    Male     Yes          0      Graduate           Yes   \n",
      "3    LP001006    Male     Yes          0  Not Graduate            No   \n",
      "4    LP001008    Male      No          0      Graduate            No   \n",
      "..        ...     ...     ...        ...           ...           ...   \n",
      "494  LP002585    Male     Yes          0      Graduate            No   \n",
      "495  LP002586  Female     Yes          1      Graduate            No   \n",
      "496  LP002587    Male     Yes          0  Not Graduate            No   \n",
      "497       NaN     NaN     NaN        NaN           NaN           NaN   \n",
      "498  LP002600    Male     Yes          1      Graduate           Yes   \n",
      "\n",
      "     ApplicantIncome  CoapplicantIncome  LoanAmount  Loan_Amount_Term  \\\n",
      "0             5849.0                0.0  146.412162             360.0   \n",
      "1             4583.0             1508.0  128.000000             360.0   \n",
      "2             3000.0                0.0   66.000000             360.0   \n",
      "3             2583.0             2358.0  120.000000             360.0   \n",
      "4             6000.0                0.0  141.000000             360.0   \n",
      "..               ...                ...         ...               ...   \n",
      "494           3597.0             2157.0  119.000000             360.0   \n",
      "495           3326.0              913.0  105.000000              84.0   \n",
      "496           2600.0             1700.0  107.000000             360.0   \n",
      "497              NaN                NaN         NaN               NaN   \n",
      "498           2895.0                0.0   95.000000             360.0   \n",
      "\n",
      "     Credit_History Property_Area Loan_Status  \n",
      "0               1.0         Urban           Y  \n",
      "1               1.0         Rural           N  \n",
      "2               1.0         Urban           Y  \n",
      "3               1.0         Urban           Y  \n",
      "4               1.0         Urban           Y  \n",
      "..              ...           ...         ...  \n",
      "494             0.0         Rural           N  \n",
      "495             1.0     Semiurban           Y  \n",
      "496             1.0         Rural           Y  \n",
      "497             NaN           NaN         NaN  \n",
      "498             1.0     Semiurban           Y  \n",
      "\n",
      "[494 rows x 13 columns]\n",
      "      Loan_ID  Gender Married Dependents     Education Self_Employed  \\\n",
      "0    LP001002    Male      No          0      Graduate            No   \n",
      "1    LP001003    Male     Yes          1      Graduate            No   \n",
      "2    LP001005    Male     Yes          0      Graduate           Yes   \n",
      "3    LP001006    Male     Yes          0  Not Graduate            No   \n",
      "4    LP001008    Male      No          0      Graduate            No   \n",
      "..        ...     ...     ...        ...           ...           ...   \n",
      "494  LP002585    Male     Yes          0      Graduate            No   \n",
      "495  LP002586  Female     Yes          1      Graduate            No   \n",
      "496  LP002587    Male     Yes          0  Not Graduate            No   \n",
      "497       NaN     NaN     NaN        NaN           NaN           NaN   \n",
      "498  LP002600    Male     Yes          1      Graduate           Yes   \n",
      "\n",
      "     ApplicantIncome  CoapplicantIncome  LoanAmount  Loan_Amount_Term  \\\n",
      "0             5849.0                0.0  146.412162             360.0   \n",
      "1             4583.0             1508.0  128.000000             360.0   \n",
      "2             3000.0                0.0   66.000000             360.0   \n",
      "3             2583.0             2358.0  120.000000             360.0   \n",
      "4             6000.0                0.0  141.000000             360.0   \n",
      "..               ...                ...         ...               ...   \n",
      "494           3597.0             2157.0  119.000000             360.0   \n",
      "495           3326.0              913.0  105.000000              84.0   \n",
      "496           2600.0             1700.0  107.000000             360.0   \n",
      "497              NaN                NaN         NaN               NaN   \n",
      "498           2895.0                0.0   95.000000             360.0   \n",
      "\n",
      "     Credit_History Property_Area Loan_Status  \n",
      "0               1.0         Urban           Y  \n",
      "1               1.0         Rural           N  \n",
      "2               1.0         Urban           Y  \n",
      "3               1.0         Urban           Y  \n",
      "4               1.0         Urban           Y  \n",
      "..              ...           ...         ...  \n",
      "494             0.0         Rural           N  \n",
      "495             1.0     Semiurban           Y  \n",
      "496             1.0         Rural           Y  \n",
      "497             NaN           NaN         NaN  \n",
      "498             1.0     Semiurban           Y  \n",
      "\n",
      "[494 rows x 13 columns]\n"
     ]
    },
    {
     "data": {
      "text/plain": [
       "(494, 13)"
      ]
     },
     "execution_count": 28,
     "metadata": {},
     "output_type": "execute_result"
    }
   ],
   "source": [
    "df.shape\n",
    "rs = ZScore(df, 'ApplicantIncome')\n",
    "print(rs)\n",
    "rs.shape"
   ]
  },
  {
   "cell_type": "code",
   "execution_count": 29,
   "metadata": {},
   "outputs": [
    {
     "name": "stdout",
     "output_type": "stream",
     "text": [
      "      Loan_ID  Gender Married Dependents     Education Self_Employed  \\\n",
      "0    LP001002    Male      No          0      Graduate            No   \n",
      "1    LP001003    Male     Yes          1      Graduate            No   \n",
      "2    LP001005    Male     Yes          0      Graduate           Yes   \n",
      "3    LP001006    Male     Yes          0  Not Graduate            No   \n",
      "4    LP001008    Male      No          0      Graduate            No   \n",
      "..        ...     ...     ...        ...           ...           ...   \n",
      "488  LP002555    Male     Yes          2      Graduate           Yes   \n",
      "489  LP002556    Male      No          0      Graduate            No   \n",
      "490       NaN     NaN     NaN        NaN           NaN           NaN   \n",
      "491       NaN     NaN     NaN        NaN           NaN           NaN   \n",
      "493  LP002582  Female      No          0  Not Graduate           Yes   \n",
      "\n",
      "     ApplicantIncome  CoapplicantIncome  LoanAmount  Loan_Amount_Term  \\\n",
      "0             5849.0                0.0  146.412162             360.0   \n",
      "1             4583.0             1508.0  128.000000             360.0   \n",
      "2             3000.0                0.0   66.000000             360.0   \n",
      "3             2583.0             2358.0  120.000000             360.0   \n",
      "4             6000.0                0.0  141.000000             360.0   \n",
      "..               ...                ...         ...               ...   \n",
      "488           4583.0             2083.0  160.000000             360.0   \n",
      "489           2435.0                0.0   75.000000             360.0   \n",
      "490              NaN                NaN         NaN               NaN   \n",
      "491              NaN                NaN         NaN               NaN   \n",
      "493          17263.0                0.0  225.000000             360.0   \n",
      "\n",
      "     Credit_History Property_Area Loan_Status  \n",
      "0               1.0         Urban           Y  \n",
      "1               1.0         Rural           N  \n",
      "2               1.0         Urban           Y  \n",
      "3               1.0         Urban           Y  \n",
      "4               1.0         Urban           Y  \n",
      "..              ...           ...         ...  \n",
      "488             1.0     Semiurban           Y  \n",
      "489             1.0         Urban           N  \n",
      "490             NaN           NaN         NaN  \n",
      "491             NaN           NaN         NaN  \n",
      "493             1.0     Semiurban           Y  \n",
      "\n",
      "[392 rows x 13 columns]\n",
      "      Loan_ID  Gender Married Dependents     Education Self_Employed  \\\n",
      "0    LP001002    Male      No          0      Graduate            No   \n",
      "1    LP001003    Male     Yes          1      Graduate            No   \n",
      "2    LP001005    Male     Yes          0      Graduate           Yes   \n",
      "3    LP001006    Male     Yes          0  Not Graduate            No   \n",
      "4    LP001008    Male      No          0      Graduate            No   \n",
      "..        ...     ...     ...        ...           ...           ...   \n",
      "488  LP002555    Male     Yes          2      Graduate           Yes   \n",
      "489  LP002556    Male      No          0      Graduate            No   \n",
      "490       NaN     NaN     NaN        NaN           NaN           NaN   \n",
      "491       NaN     NaN     NaN        NaN           NaN           NaN   \n",
      "493  LP002582  Female      No          0  Not Graduate           Yes   \n",
      "\n",
      "     ApplicantIncome  CoapplicantIncome  LoanAmount  Loan_Amount_Term  \\\n",
      "0             5849.0                0.0  146.412162             360.0   \n",
      "1             4583.0             1508.0  128.000000             360.0   \n",
      "2             3000.0                0.0   66.000000             360.0   \n",
      "3             2583.0             2358.0  120.000000             360.0   \n",
      "4             6000.0                0.0  141.000000             360.0   \n",
      "..               ...                ...         ...               ...   \n",
      "488           4583.0             2083.0  160.000000             360.0   \n",
      "489           2435.0                0.0   75.000000             360.0   \n",
      "490              NaN                NaN         NaN               NaN   \n",
      "491              NaN                NaN         NaN               NaN   \n",
      "493          17263.0                0.0  225.000000             360.0   \n",
      "\n",
      "     Credit_History Property_Area Loan_Status  \n",
      "0               1.0         Urban           Y  \n",
      "1               1.0         Rural           N  \n",
      "2               1.0         Urban           Y  \n",
      "3               1.0         Urban           Y  \n",
      "4               1.0         Urban           Y  \n",
      "..              ...           ...         ...  \n",
      "488             1.0     Semiurban           Y  \n",
      "489             1.0         Urban           N  \n",
      "490             NaN           NaN         NaN  \n",
      "491             NaN           NaN         NaN  \n",
      "493             1.0     Semiurban           Y  \n",
      "\n",
      "[392 rows x 13 columns]\n"
     ]
    },
    {
     "name": "stderr",
     "output_type": "stream",
     "text": [
      "c:\\python\\venv\\lib\\site-packages\\ipykernel_launcher.py:7: RuntimeWarning: invalid value encountered in less\n",
      "  import sys\n",
      "c:\\python\\venv\\lib\\site-packages\\pandas\\core\\indexing.py:1418: FutureWarning: \n",
      "Passing list-likes to .loc or [] with any missing label will raise\n",
      "KeyError in the future, you can use .reindex() as an alternative.\n",
      "\n",
      "See the documentation here:\n",
      "https://pandas.pydata.org/pandas-docs/stable/user_guide/indexing.html#deprecate-loc-reindex-listlike\n",
      "  return self._getitem_tuple(key)\n"
     ]
    }
   ],
   "source": [
    "rs = ZScore(rs, 'LoanAmount')\n",
    "print(rs)"
   ]
  },
  {
   "cell_type": "code",
   "execution_count": 34,
   "metadata": {},
   "outputs": [
    {
     "data": {
      "text/plain": [
       "<matplotlib.axes._subplots.AxesSubplot at 0xf62a250>"
      ]
     },
     "execution_count": 34,
     "metadata": {},
     "output_type": "execute_result"
    },
    {
     "data": {
      "image/png": "[encoded data removed]",
      "text/plain": [
       "<Figure size 432x288 with 1 Axes>"
      ]
     },
     "metadata": {
      "needs_background": "light"
     },
     "output_type": "display_data"
    }
   ],
   "source": [
    "sns.boxplot(rs['ApplicantIncome'])"
   ]
  },
  {
   "cell_type": "code",
   "execution_count": null,
   "metadata": {},
   "outputs": [],
   "source": []
  }
 ],
 "metadata": {
  "kernelspec": {
   "display_name": "Python 3",
   "language": "python",
   "name": "python3"
  },
  "language_info": {
   "codemirror_mode": {
    "name": "ipython",
    "version": 3
   },
   "file_extension": ".py",
   "mimetype": "text/x-python",
   "name": "python",
   "nbconvert_exporter": "python",
   "pygments_lexer": "ipython3",
   "version": "3.7.2"
  }
 },
 "nbformat": 4,
 "nbformat_minor": 2
}
